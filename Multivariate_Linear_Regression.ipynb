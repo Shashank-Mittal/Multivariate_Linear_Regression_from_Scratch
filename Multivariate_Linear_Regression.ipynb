{
 "cells": [
  {
   "cell_type": "code",
   "execution_count": 484,
   "metadata": {},
   "outputs": [
    {
     "name": "stdout",
     "output_type": "stream",
     "text": [
      "<class 'pandas.core.frame.DataFrame'>\n",
      "RangeIndex: 5000 entries, 0 to 4999\n",
      "Data columns (total 7 columns):\n",
      "Avg. Area Income                5000 non-null float64\n",
      "Avg. Area House Age             5000 non-null float64\n",
      "Avg. Area Number of Rooms       5000 non-null float64\n",
      "Avg. Area Number of Bedrooms    5000 non-null float64\n",
      "Area Population                 5000 non-null float64\n",
      "Price                           5000 non-null float64\n",
      "Address                         5000 non-null object\n",
      "dtypes: float64(6), object(1)\n",
      "memory usage: 273.5+ KB\n"
     ]
    }
   ],
   "source": [
    "import numpy as np\n",
    "import pandas as pd\n",
    "import matplotlib.pyplot as plt\n",
    "df=pd.read_csv(\"USA_Housing.csv\")\n",
    "df.info()"
   ]
  },
  {
   "cell_type": "code",
   "execution_count": 485,
   "metadata": {},
   "outputs": [],
   "source": [
    "# Min Max Transformation\n",
    "df[\"Avg. Area Income\"]=(df[\"Avg. Area Income\"]-min(df[\"Avg. Area Income\"]))/(max(df[\"Avg. Area Income\"])-min(df[\"Avg. Area Income\"]))\n",
    "#df[\"Avg. Area Income\"].hist(bins=50)\n",
    "df[\"Area Population\"]=(df[\"Area Population\"]-min(df[\"Area Population\"]))/(max(df[\"Area Population\"])-min(df[\"Area Population\"]))\n"
   ]
  },
  {
   "cell_type": "code",
   "execution_count": 486,
   "metadata": {},
   "outputs": [
    {
     "data": {
      "text/html": [
       "<div>\n",
       "<style scoped>\n",
       "    .dataframe tbody tr th:only-of-type {\n",
       "        vertical-align: middle;\n",
       "    }\n",
       "\n",
       "    .dataframe tbody tr th {\n",
       "        vertical-align: top;\n",
       "    }\n",
       "\n",
       "    .dataframe thead th {\n",
       "        text-align: right;\n",
       "    }\n",
       "</style>\n",
       "<table border=\"1\" class=\"dataframe\">\n",
       "  <thead>\n",
       "    <tr style=\"text-align: right;\">\n",
       "      <th></th>\n",
       "      <th>Avg. Area Income</th>\n",
       "      <th>Avg. Area House Age</th>\n",
       "      <th>Avg. Area Number of Rooms</th>\n",
       "      <th>Avg. Area Number of Bedrooms</th>\n",
       "      <th>Area Population</th>\n",
       "      <th>Price</th>\n",
       "    </tr>\n",
       "  </thead>\n",
       "  <tbody>\n",
       "    <tr>\n",
       "      <th>count</th>\n",
       "      <td>5000.000000</td>\n",
       "      <td>5000.000000</td>\n",
       "      <td>5000.000000</td>\n",
       "      <td>5000.000000</td>\n",
       "      <td>5000.000000</td>\n",
       "      <td>5.000000e+03</td>\n",
       "    </tr>\n",
       "    <tr>\n",
       "      <th>mean</th>\n",
       "      <td>0.564890</td>\n",
       "      <td>5.977222</td>\n",
       "      <td>6.987792</td>\n",
       "      <td>3.981330</td>\n",
       "      <td>0.518234</td>\n",
       "      <td>1.232073e+06</td>\n",
       "    </tr>\n",
       "    <tr>\n",
       "      <th>std</th>\n",
       "      <td>0.118547</td>\n",
       "      <td>0.991456</td>\n",
       "      <td>1.005833</td>\n",
       "      <td>1.234137</td>\n",
       "      <td>0.142920</td>\n",
       "      <td>3.531176e+05</td>\n",
       "    </tr>\n",
       "    <tr>\n",
       "      <th>min</th>\n",
       "      <td>0.000000</td>\n",
       "      <td>2.644304</td>\n",
       "      <td>3.236194</td>\n",
       "      <td>2.000000</td>\n",
       "      <td>0.000000</td>\n",
       "      <td>1.593866e+04</td>\n",
       "    </tr>\n",
       "    <tr>\n",
       "      <th>25%</th>\n",
       "      <td>0.485889</td>\n",
       "      <td>5.322283</td>\n",
       "      <td>6.299250</td>\n",
       "      <td>3.140000</td>\n",
       "      <td>0.420903</td>\n",
       "      <td>9.975771e+05</td>\n",
       "    </tr>\n",
       "    <tr>\n",
       "      <th>50%</th>\n",
       "      <td>0.567350</td>\n",
       "      <td>5.970429</td>\n",
       "      <td>7.002902</td>\n",
       "      <td>4.050000</td>\n",
       "      <td>0.518751</td>\n",
       "      <td>1.232669e+06</td>\n",
       "    </tr>\n",
       "    <tr>\n",
       "      <th>75%</th>\n",
       "      <td>0.644977</td>\n",
       "      <td>6.650808</td>\n",
       "      <td>7.665871</td>\n",
       "      <td>4.490000</td>\n",
       "      <td>0.614676</td>\n",
       "      <td>1.471210e+06</td>\n",
       "    </tr>\n",
       "    <tr>\n",
       "      <th>max</th>\n",
       "      <td>1.000000</td>\n",
       "      <td>9.519088</td>\n",
       "      <td>10.759588</td>\n",
       "      <td>6.500000</td>\n",
       "      <td>1.000000</td>\n",
       "      <td>2.469066e+06</td>\n",
       "    </tr>\n",
       "  </tbody>\n",
       "</table>\n",
       "</div>"
      ],
      "text/plain": [
       "       Avg. Area Income  Avg. Area House Age  Avg. Area Number of Rooms  \\\n",
       "count       5000.000000          5000.000000                5000.000000   \n",
       "mean           0.564890             5.977222                   6.987792   \n",
       "std            0.118547             0.991456                   1.005833   \n",
       "min            0.000000             2.644304                   3.236194   \n",
       "25%            0.485889             5.322283                   6.299250   \n",
       "50%            0.567350             5.970429                   7.002902   \n",
       "75%            0.644977             6.650808                   7.665871   \n",
       "max            1.000000             9.519088                  10.759588   \n",
       "\n",
       "       Avg. Area Number of Bedrooms  Area Population         Price  \n",
       "count                   5000.000000      5000.000000  5.000000e+03  \n",
       "mean                       3.981330         0.518234  1.232073e+06  \n",
       "std                        1.234137         0.142920  3.531176e+05  \n",
       "min                        2.000000         0.000000  1.593866e+04  \n",
       "25%                        3.140000         0.420903  9.975771e+05  \n",
       "50%                        4.050000         0.518751  1.232669e+06  \n",
       "75%                        4.490000         0.614676  1.471210e+06  \n",
       "max                        6.500000         1.000000  2.469066e+06  "
      ]
     },
     "execution_count": 486,
     "metadata": {},
     "output_type": "execute_result"
    }
   ],
   "source": [
    "X=np.array(df.iloc[:,:5]) # X = independent Variables consider as 5 Features\n",
    "Y=np.array(df.iloc[:,5:6]) #Y= Target variable\n",
    "df.describe()"
   ]
  },
  {
   "cell_type": "markdown",
   "metadata": {},
   "source": [
    "## Train Test Split"
   ]
  },
  {
   "cell_type": "code",
   "execution_count": 487,
   "metadata": {},
   "outputs": [],
   "source": [
    "# 75 % fro train and 25% for test\n",
    "split_value=round(len(X) - len(X)*0.25)\n",
    "x_train=X[:split_value]\n",
    "x_test=X[split_value:]\n",
    "y_train=Y[:split_value]\n",
    "y_test=Y[split_value:]"
   ]
  },
  {
   "cell_type": "markdown",
   "metadata": {},
   "source": [
    "# Multivariate Linear Regression"
   ]
  },
  {
   "cell_type": "code",
   "execution_count": 488,
   "metadata": {},
   "outputs": [
    {
     "name": "stdout",
     "output_type": "stream",
     "text": [
      "[[1171113.02288221 1190194.99537375 1228068.25432388 ... 1076951.32913573\n",
      "  1281012.59307133 1229627.85943892]]\n",
      "Mean Squared Error is: 22905465.512860127\n"
     ]
    },
    {
     "data": {
      "image/png": "[encoded data removed]",
      "text/plain": [
       "<matplotlib.figure.Figure at 0x13503b208d0>"
      ]
     },
     "metadata": {},
     "output_type": "display_data"
    }
   ],
   "source": [
    "class Regression:\n",
    "    def __init__(self,x_train):\n",
    "        self.slope = np.zeros((1,(x_train.shape[0]))) # 1 x n\n",
    "        self.Intercept = 0\n",
    "    def Hypothesis_fn(self,x_train):\n",
    "        h = np.dot(self.slope,x_train)+ self.Intercept  #slope= 1xn  and x_train =nXm  so, h=1xm\n",
    "        return h\n",
    "    def Cost_Function(self,h,y_train):\n",
    "        m= y_train.shape[1]\n",
    "        J=((1/(2*m))*(np.sum(np.square(h - y_train)))) #h=1xm y_train= 1xm\n",
    "        return J\n",
    "    def Gradient_descent(self,h,x_train,y_train):\n",
    "        m = y_train.shape[1]\n",
    "        dIntercept = (1/m)*(np.sum(h-y_train))\n",
    "        dslope = (1/m)*np.dot((h-y_train),x_train.transpose())  # (h-y_train)=1xm x_train= mXn dslope=1Xn\n",
    "        return dslope,dIntercept\n",
    "    def train(self,x_train,y_train,iteration,learning_rate):\n",
    "        cost=[]\n",
    "        epoch_list=[]\n",
    "        for i in range(iteration):\n",
    "            h=self.Hypothesis_fn(x_train)\n",
    "            J=self.Cost_Function(h,y_train)\n",
    "            g=self.Gradient_descent(h,x_train,y_train)\n",
    "            self.slope = self.slope - (learning_rate * g[0]) # slope 1Xn\n",
    "            self.Intercept = self.Intercept- (learning_rate * g[1])\n",
    "            if(i%10==0):\n",
    "                cost.append(J)\n",
    "                epoch_list.append(i)\n",
    "        plt.plot(epoch_list,cost) #k[1] = Iteration and  k[0] = Cost\n",
    "        plt.xlabel(\"Epoch\")\n",
    "        plt.ylabel(\"cost\")    \n",
    "    def predict(self,x_test):\n",
    "        y_predict=np.dot(self.slope,x_test)+ self.Intercept\n",
    "        return y_predict\n",
    "        \n",
    "x_train = x_train.transpose()  # n X m\n",
    "y_train = y_train.transpose() #1 X m\n",
    "x_test  = x_test.transpose()\n",
    "y_test =  y_test.transpose()\n",
    "epoch=1000\n",
    "learning_rate=0.0001\n",
    "rg=Regression(x_train) # object Creation\n",
    "rg.train(x_train,y_train,epoch,learning_rate)  # Train the Model\n",
    "y_predict=rg.predict(x_test)  # make Prediction\n",
    "mse_scratch= np.sum(y_predict-y_test)  # Calculate mean squared Error\n",
    "print(y_predict)\n",
    "print(\"Mean Squared Error is:\",mse_scratch)"
   ]
  },
  {
   "cell_type": "markdown",
   "metadata": {},
   "source": [
    "# Comparision with Scikit-learn"
   ]
  },
  {
   "cell_type": "code",
   "execution_count": 489,
   "metadata": {},
   "outputs": [
    {
     "name": "stdout",
     "output_type": "stream",
     "text": [
      "Mean Squared Error is: 5842815269.818504\n"
     ]
    }
   ],
   "source": [
    "from sklearn.linear_model import LinearRegression\n",
    "Linear=LinearRegression()\n",
    "Linear.fit(x_train.transpose(),y_train.transpose())\n",
    "y_predict=Linear.predict(x_test.transpose())\n",
    "mse_scikit= np.sum(y_predict-y_test)\n",
    "print(\"Mean Squared Error is:\",mse_scikit)"
   ]
  },
  {
   "cell_type": "markdown",
   "metadata": {},
   "source": [
    "## Which one is Best"
   ]
  },
  {
   "cell_type": "code",
   "execution_count": 490,
   "metadata": {},
   "outputs": [
    {
     "name": "stdout",
     "output_type": "stream",
     "text": [
      "Scratch is best\n"
     ]
    }
   ],
   "source": [
    "# Just for Fun\n",
    "if(mse_scratch< mse_scikit):\n",
    "    print(\"Scratch is best\")\n",
    "else:\n",
    "    print(\"Sklearn is best\")"
   ]
  },
  {
   "cell_type": "code",
   "execution_count": null,
   "metadata": {},
   "outputs": [],
   "source": []
  }
 ],
 "metadata": {
  "kernelspec": {
   "display_name": "Python 3",
   "language": "python",
   "name": "python3"
  },
  "language_info": {
   "codemirror_mode": {
    "name": "ipython",
    "version": 3
   },
   "file_extension": ".py",
   "mimetype": "text/x-python",
   "name": "python",
   "nbconvert_exporter": "python",
   "pygments_lexer": "ipython3",
   "version": "3.6.4"
  }
 },
 "nbformat": 4,
 "nbformat_minor": 2
}
