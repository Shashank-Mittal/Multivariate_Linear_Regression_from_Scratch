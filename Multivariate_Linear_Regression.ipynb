{
 "cells": [
  {
   "cell_type": "code",
   "execution_count": 109,
   "metadata": {},
   "outputs": [
    {
     "name": "stdout",
     "output_type": "stream",
     "text": [
      "<class 'pandas.core.frame.DataFrame'>\n",
      "RangeIndex: 5000 entries, 0 to 4999\n",
      "Data columns (total 7 columns):\n",
      "Avg. Area Income                5000 non-null float64\n",
      "Avg. Area House Age             5000 non-null float64\n",
      "Avg. Area Number of Rooms       5000 non-null float64\n",
      "Avg. Area Number of Bedrooms    5000 non-null float64\n",
      "Area Population                 5000 non-null float64\n",
      "Price                           5000 non-null float64\n",
      "Address                         5000 non-null object\n",
      "dtypes: float64(6), object(1)\n",
      "memory usage: 273.5+ KB\n"
     ]
    }
   ],
   "source": [
    "import numpy as np\n",
    "import pandas as pd\n",
    "import matplotlib.pyplot as plt\n",
    "df=pd.read_csv(\"USA_Housing.csv\")\n",
    "df.info()"
   ]
  },
  {
   "cell_type": "code",
   "execution_count": 110,
   "metadata": {},
   "outputs": [],
   "source": [
    "X=np.array(df.iloc[:,:5]) # X = independent Variables consider as 5 Features\n",
    "Y=np.array(df.iloc[:,5:6]) #Y= Target variable"
   ]
  },
  {
   "cell_type": "markdown",
   "metadata": {},
   "source": [
    "# Train Test Split"
   ]
  },
  {
   "cell_type": "code",
   "execution_count": 116,
   "metadata": {},
   "outputs": [
    {
     "data": {
      "text/plain": [
       "(3750, 1)"
      ]
     },
     "execution_count": 116,
     "metadata": {},
     "output_type": "execute_result"
    }
   ],
   "source": [
    "# 75 % fro train and 25% for test\n",
    "split_value=round(len(X) - len(X)*0.25)\n",
    "x_train=X[:split_value]\n",
    "x_test=X[split_value:]\n",
    "y_train=Y[:split_value]\n",
    "y_test=Y[split_value:]"
   ]
  },
  {
   "cell_type": "code",
   "execution_count": 105,
   "metadata": {},
   "outputs": [],
   "source": [
    "# n= Number of Features m= Number of rows  \n",
    "def Initialization(x_train,y_train):\n",
    "    slope=np.zeros((1,(x_train.shape[1]))) # 1 x n\n",
    "    x_train = x_train.transpose()  # n X m\n",
    "    y_train=y_train.transpose() #1 X m\n",
    "    Intercept=0\n",
    "    return slope,x_train,y_train,intercept"
   ]
  },
  {
   "cell_type": "code",
   "execution_count": 112,
   "metadata": {},
   "outputs": [],
   "source": [
    "def Hypothesis_fn(slope,x_train,Intercept):\n",
    "    h=np.dot(slope,x_train)+ Intercept  #slope= 1xn  and x_train =nXm  so, h=1xm\n",
    "    return h"
   ]
  },
  {
   "cell_type": "code",
   "execution_count": 113,
   "metadata": {},
   "outputs": [],
   "source": [
    "def Cost_Function(h,y_train):\n",
    "    m= y_train.shape[1]\n",
    "    J=((1/(2*m))*(np.sum(np.square(h-y_train)))) #h=1xm y_train= 1xm\n",
    "    return J"
   ]
  },
  {
   "cell_type": "code",
   "execution_count": 117,
   "metadata": {},
   "outputs": [],
   "source": [
    "def Gradient_descent(x_train,y_train,h,Intercept,slope,learning_rate):\n",
    "    m= y_train.shape[1]\n",
    "    dIntercept=(1/m)*(np.sum(h-y_train))\n",
    "    dslope=(1/m)*np.dot((h-y_train),x_train.transpose())  # (h-y_train)=1xm x_train= mXn dslope=1Xn\n",
    "    slope=slope- learning_rate * dslope # slope 1Xn\n",
    "    Intercept=Intercept- learning_rate * dIntercept \n",
    "    return slope,Intercept"
   ]
  },
  {
   "cell_type": "code",
   "execution_count": null,
   "metadata": {},
   "outputs": [],
   "source": []
  }
 ],
 "metadata": {
  "kernelspec": {
   "display_name": "Python 3",
   "language": "python",
   "name": "python3"
  },
  "language_info": {
   "codemirror_mode": {
    "name": "ipython",
    "version": 3
   },
   "file_extension": ".py",
   "mimetype": "text/x-python",
   "name": "python",
   "nbconvert_exporter": "python",
   "pygments_lexer": "ipython3",
   "version": "3.6.4"
  }
 },
 "nbformat": 4,
 "nbformat_minor": 2
}
